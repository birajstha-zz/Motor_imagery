{
 "cells": [
  {
   "cell_type": "code",
   "execution_count": null,
   "metadata": {},
   "outputs": [],
   "source": []
  },
  {
   "cell_type": "code",
   "execution_count": 1,
   "metadata": {},
   "outputs": [],
   "source": [
    "import mne\n",
    "import numpy as np"
   ]
  },
  {
   "cell_type": "code",
   "execution_count": 2,
   "metadata": {},
   "outputs": [
    {
     "name": "stdout",
     "output_type": "stream",
     "text": [
      "Extracting EDF parameters from /media/biraj/DATA/Motor Imagery Dataset/S002/S002R03.edf...\n",
      "EDF file detected\n",
      "Setting channel info structure...\n",
      "Creating raw.info structure...\n",
      "Used Annotations descriptions: ['T0', 'T1', 'T2']\n",
      "30 matching events found\n",
      "Applying baseline correction (mode: mean)\n",
      "Not setting metadata\n",
      "0 projection items activated\n"
     ]
    }
   ],
   "source": [
    "sbj='002'\n",
    "rec='03'\n",
    "edf_loc= '/media/biraj/DATA/Motor Imagery Dataset/S'+sbj+'/S'+sbj+'R'+rec+'.edf'\n",
    "Data = mne.io.read_raw_edf(edf_loc)\n",
    "events, event_id=mne.events_from_annotations(Data)\n",
    "epochs=mne.Epochs(Data, events, event_id, tmin=0, tmax=4, baseline=(None,None))"
   ]
  },
  {
   "cell_type": "code",
   "execution_count": 3,
   "metadata": {},
   "outputs": [
    {
     "data": {
      "text/plain": [
       "<Info | 7 non-empty values\n",
       " bads: []\n",
       " ch_names: Fc5., Fc3., Fc1., Fcz., Fc2., Fc4., Fc6., C5.., C3.., C1.., ...\n",
       " chs: 64 EEG\n",
       " custom_ref_applied: False\n",
       " highpass: 0.0 Hz\n",
       " lowpass: 80.0 Hz\n",
       " meas_date: 2009-08-12 16:15:00 UTC\n",
       " nchan: 64\n",
       " projs: []\n",
       " sfreq: 160.0 Hz\n",
       ">"
      ]
     },
     "execution_count": 3,
     "metadata": {},
     "output_type": "execute_result"
    }
   ],
   "source": [
    "Data.info"
   ]
  },
  {
   "cell_type": "code",
   "execution_count": 4,
   "metadata": {},
   "outputs": [
    {
     "data": {
      "text/plain": [
       "array([[    0,     0,     1],\n",
       "       [  656,     0,     2],\n",
       "       [ 1312,     0,     1],\n",
       "       [ 1968,     0,     3],\n",
       "       [ 2624,     0,     1],\n",
       "       [ 3280,     0,     3],\n",
       "       [ 3936,     0,     1],\n",
       "       [ 4592,     0,     2],\n",
       "       [ 5248,     0,     1],\n",
       "       [ 5904,     0,     2],\n",
       "       [ 6560,     0,     1],\n",
       "       [ 7216,     0,     3],\n",
       "       [ 7872,     0,     1],\n",
       "       [ 8528,     0,     3],\n",
       "       [ 9184,     0,     1],\n",
       "       [ 9840,     0,     2],\n",
       "       [10496,     0,     1],\n",
       "       [11152,     0,     3],\n",
       "       [11808,     0,     1],\n",
       "       [12464,     0,     2],\n",
       "       [13120,     0,     1],\n",
       "       [13776,     0,     2],\n",
       "       [14432,     0,     1],\n",
       "       [15088,     0,     3],\n",
       "       [15744,     0,     1],\n",
       "       [16400,     0,     2],\n",
       "       [17056,     0,     1],\n",
       "       [17712,     0,     3],\n",
       "       [18368,     0,     1],\n",
       "       [19024,     0,     2]])"
      ]
     },
     "execution_count": 4,
     "metadata": {},
     "output_type": "execute_result"
    }
   ],
   "source": [
    "events"
   ]
  },
  {
   "cell_type": "code",
   "execution_count": 5,
   "metadata": {},
   "outputs": [
    {
     "name": "stdout",
     "output_type": "stream",
     "text": [
      "[[  656     0     2]\n",
      " [ 4592     0     2]\n",
      " [ 5904     0     2]\n",
      " [ 9840     0     2]\n",
      " [12464     0     2]\n",
      " [13776     0     2]\n",
      " [16400     0     2]\n",
      " [19024     0     2]]\n"
     ]
    }
   ],
   "source": [
    "events_T1=mne.pick_events(events, exclude=[1,3])\n",
    "print(events_T1)"
   ]
  },
  {
   "cell_type": "markdown",
   "metadata": {},
   "source": [
    "onset = \n",
    "duration = \n",
    "desciption = \n",
    "my_ann = mne.Annotations(onset, duration, description)"
   ]
  },
  {
   "cell_type": "code",
   "execution_count": 6,
   "metadata": {},
   "outputs": [
    {
     "data": {
      "text/plain": [
       "30"
      ]
     },
     "execution_count": 6,
     "metadata": {},
     "output_type": "execute_result"
    }
   ],
   "source": [
    "len(events)"
   ]
  },
  {
   "cell_type": "code",
   "execution_count": 7,
   "metadata": {},
   "outputs": [
    {
     "data": {
      "text/plain": [
       "array([1, 2, 1, 3, 1, 3, 1, 2, 1, 2, 1, 3, 1, 3, 1, 2, 1, 3, 1, 2, 1, 2,\n",
       "       1, 3, 1, 2, 1, 3, 1, 2])"
      ]
     },
     "execution_count": 7,
     "metadata": {},
     "output_type": "execute_result"
    }
   ],
   "source": [
    "events[:,2]"
   ]
  },
  {
   "cell_type": "code",
   "execution_count": 8,
   "metadata": {},
   "outputs": [
    {
     "name": "stdout",
     "output_type": "stream",
     "text": [
      "Reading 0 ... 19679  =      0.000 ...   122.994 secs...\n"
     ]
    }
   ],
   "source": [
    "raw=Data.load_data()"
   ]
  },
  {
   "cell_type": "code",
   "execution_count": 9,
   "metadata": {},
   "outputs": [
    {
     "name": "stdout",
     "output_type": "stream",
     "text": [
      "<Annotations | 30 segments: T0 (15), T1 (8), T2 (7)>\n"
     ]
    }
   ],
   "source": [
    "print(raw.annotations)\n"
   ]
  },
  {
   "cell_type": "code",
   "execution_count": 18,
   "metadata": {},
   "outputs": [
    {
     "name": "stdout",
     "output_type": "stream",
     "text": [
      "0\n",
      "1312\n",
      "2624\n",
      "3936\n",
      "5248\n",
      "6560\n",
      "7872\n",
      "9184\n",
      "10496\n",
      "11808\n",
      "13120\n",
      "14432\n",
      "15744\n",
      "17056\n"
     ]
    }
   ],
   "source": [
    "onset = []\n",
    "duration = []\n",
    "description = []\n",
    "\n",
    "for i in range(len(events)-1):\n",
    "    if events[i, 2] == 1:\n",
    "        continue\n",
    "    elif events[i, 2] == 2:\n",
    "        print(events[i-1][0])\n",
    "        onset.append(events[i-1][0])\n",
    "        duration.append(events[i+1][0]-events[i-1][0])\n",
    "        description.append('T1')\n",
    "        continue\n",
    "    elif events[i, 2] == 3:\n",
    "        print(events[i-1][0])\n",
    "        onset.append(events[i-1][0])\n",
    "        duration.append(events[i+1][0]-events[i-1][0])\n",
    "        description.append('T2')\n",
    "        continue"
   ]
  },
  {
   "cell_type": "code",
   "execution_count": null,
   "metadata": {},
   "outputs": [],
   "source": []
  },
  {
   "cell_type": "code",
   "execution_count": 11,
   "metadata": {},
   "outputs": [
    {
     "name": "stdout",
     "output_type": "stream",
     "text": [
      "[  0.    8.2  16.4  24.6  32.8  41.   49.2  57.4  65.6  73.8  82.   90.2\n",
      "  98.4 106.6]\n",
      "[8.2 8.2 8.2 8.2 8.2 8.2 8.2 8.2 8.2 8.2 8.2 8.2 8.2 8.2]\n"
     ]
    }
   ],
   "source": [
    "print(np.array(onset)/160)\n",
    "print(np.array(duration)/160)"
   ]
  },
  {
   "cell_type": "code",
   "execution_count": 13,
   "metadata": {},
   "outputs": [
    {
     "name": "stdout",
     "output_type": "stream",
     "text": [
      "<Annotations | 14 segments: T1 (7), T2 (7)>\n"
     ]
    }
   ],
   "source": [
    "onset = np.array(onset)/160\n",
    "duration = np.array(duration)/160\n",
    "my_ann = mne.Annotations(onset, duration, description)\n",
    "print(my_ann)"
   ]
  },
  {
   "cell_type": "code",
   "execution_count": 15,
   "metadata": {},
   "outputs": [
    {
     "data": {
      "text/plain": [
       "<RawEDF | S002R03.edf, 64 x 19680 (123.0 s), ~9.7 MB, data loaded>"
      ]
     },
     "execution_count": 15,
     "metadata": {},
     "output_type": "execute_result"
    }
   ],
   "source": [
    "Data.set_annotations(my_ann)"
   ]
  },
  {
   "cell_type": "code",
   "execution_count": 19,
   "metadata": {},
   "outputs": [
    {
     "name": "stderr",
     "output_type": "stream",
     "text": [
      "Failed to import duecredit due to No module named 'duecredit'\n"
     ]
    }
   ],
   "source": [
    "import mne\n",
    "import numpy as np\n",
    "import brainconn\n",
    "#import networkx as nx\n",
    "#import scipy as sp\n",
    "import matplotlib.pyplot as plt"
   ]
  },
  {
   "cell_type": "code",
   "execution_count": 28,
   "metadata": {},
   "outputs": [
    {
     "name": "stdout",
     "output_type": "stream",
     "text": [
      "Used Annotations descriptions: ['T1', 'T2']\n",
      "14 matching events found\n",
      "Applying baseline correction (mode: mean)\n",
      "Not setting metadata\n",
      "0 projection items activated\n",
      "Loading data for 7 events and 113 original time points ...\n",
      "1 bad epochs dropped\n",
      "Loading data for 7 events and 113 original time points ...\n",
      "0 bad epochs dropped\n"
     ]
    }
   ],
   "source": [
    "\n",
    "info = Data.info\n",
    "events, event_id=mne.events_from_annotations(Data)\n",
    "\n",
    "epochs=mne.Epochs(Data, events, event_id=event_id,  baseline=(None,None))\n",
    "\n",
    "#fig = mne.viz.plot_events(events,event_id=event_id,sfreq=Data.info['sfreq'], first_samp=Data.first_samp)\n",
    "\n",
    "T1=epochs['T1'].get_data()\n",
    "T2=epochs['T2'].get_data()\n",
    "\n",
    "fmin=4\n",
    "fmax=8\n",
    "how_many=10\n"
   ]
  },
  {
   "cell_type": "code",
   "execution_count": null,
   "metadata": {},
   "outputs": [],
   "source": []
  },
  {
   "cell_type": "code",
   "execution_count": 41,
   "metadata": {},
   "outputs": [
    {
     "name": "stdout",
     "output_type": "stream",
     "text": [
      "<Epochs  |   7 events (good & bad), -0.2 - 0.5 sec, baseline [None, None], ~130 kB, data not loaded,\n",
      " 'T1': 7>\n",
      "Connectivity computation...\n",
      "only using indices for lower-triangular matrix\n",
      "    computing connectivity for 2016 connections\n",
      "    using t=0.000s..0.700s for estimation (113 points)\n",
      "    frequencies: 4.0Hz..8.0Hz (10 points)\n",
      "    connectivity scores will be averaged for each band\n",
      "    using CWT with Morlet wavelets to estimate spectra\n",
      "    the following metrics will be computed: PLI\n",
      "    computing connectivity for epoch 1\n",
      "    computing connectivity for epoch 2\n",
      "    computing connectivity for epoch 3\n"
     ]
    },
    {
     "name": "stderr",
     "output_type": "stream",
     "text": [
      "<ipython-input-41-b78ba9fb0a03>:7: RuntimeWarning: fmin=4.000 Hz corresponds to 2.825 < 5 cycles based on the epoch length 0.706 sec, need at least 1.250 sec epochs or fmin=7.080. Spectrum estimate will be unreliable.\n",
      "  plv, freqs, times, n_epochs, n_tapers=mne.connectivity.spectral_connectivity(T,method='pli', indices=None, mode='cwt_morlet', sfreq=info['sfreq'], fmin=fmin, fmax=fmax, faverage=True, cwt_freqs=np.linspace(fmin,fmax,how_many), cwt_n_cycles=1, n_jobs=1)\n"
     ]
    },
    {
     "name": "stdout",
     "output_type": "stream",
     "text": [
      "    computing connectivity for epoch 4\n",
      "    computing connectivity for epoch 5\n",
      "    computing connectivity for epoch 6\n",
      "    assembling connectivity matrix (filling the upper triangular region of the matrix)\n",
      "[Connectivity computation done]\n",
      "<Epochs  |   7 events (good & bad), -0.2 - 0.5 sec, baseline [None, None], ~130 kB, data not loaded,\n",
      " 'T2': 7>\n",
      "Connectivity computation...\n",
      "only using indices for lower-triangular matrix\n",
      "    computing connectivity for 2016 connections\n",
      "    using t=0.000s..0.700s for estimation (113 points)\n",
      "    frequencies: 4.0Hz..8.0Hz (10 points)\n",
      "    connectivity scores will be averaged for each band\n",
      "    using CWT with Morlet wavelets to estimate spectra\n",
      "    the following metrics will be computed: PLI\n",
      "    computing connectivity for epoch 1\n",
      "    computing connectivity for epoch 2\n",
      "    computing connectivity for epoch 3\n",
      "    computing connectivity for epoch 4\n"
     ]
    },
    {
     "name": "stderr",
     "output_type": "stream",
     "text": [
      "<ipython-input-41-b78ba9fb0a03>:7: RuntimeWarning: fmin=4.000 Hz corresponds to 2.825 < 5 cycles based on the epoch length 0.706 sec, need at least 1.250 sec epochs or fmin=7.080. Spectrum estimate will be unreliable.\n",
      "  plv, freqs, times, n_epochs, n_tapers=mne.connectivity.spectral_connectivity(T,method='pli', indices=None, mode='cwt_morlet', sfreq=info['sfreq'], fmin=fmin, fmax=fmax, faverage=True, cwt_freqs=np.linspace(fmin,fmax,how_many), cwt_n_cycles=1, n_jobs=1)\n"
     ]
    },
    {
     "name": "stdout",
     "output_type": "stream",
     "text": [
      "    computing connectivity for epoch 5\n",
      "    computing connectivity for epoch 6\n",
      "    computing connectivity for epoch 7\n",
      "    assembling connectivity matrix (filling the upper triangular region of the matrix)\n",
      "[Connectivity computation done]\n"
     ]
    },
    {
     "data": {
      "text/plain": [
       "<matplotlib.image.AxesImage at 0x7f27a8164190>"
      ]
     },
     "execution_count": 41,
     "metadata": {},
     "output_type": "execute_result"
    },
    {
     "data": {
      "image/png": "[encoded data removed]",
      "text/plain": [
       "<Figure size 432x288 with 1 Axes>"
      ]
     },
     "metadata": {
      "needs_background": "light"
     },
     "output_type": "display_data"
    }
   ],
   "source": [
    "\n",
    "for i in range(3):\n",
    "    if i==0:\n",
    "        continue\n",
    "        \n",
    "    T=epochs['T'+str(i)]\n",
    "    print(T)\n",
    "    plv, freqs, times, n_epochs, n_tapers=mne.connectivity.spectral_connectivity(T,method='pli', indices=None, mode='cwt_morlet', sfreq=info['sfreq'], fmin=fmin, fmax=fmax, faverage=True, cwt_freqs=np.linspace(fmin,fmax,how_many), cwt_n_cycles=1, n_jobs=1)\n",
    "    evc=[]\n",
    "    #betweenness=[]\n",
    "    for j in range(len(plv[1,1,0,:])):\n",
    "        #evc.append(abs(np.linalg.eig(abs(plv[:,:,0,j]+np.transpose(plv[:,:,0,j])))[0]))\n",
    "        evc.append(abs(brainconn.centrality.eigenvector_centrality_und(plv[:,:,0,j]+np.transpose(plv[:,:,0,j]))))\n",
    "        #evc.append(abs(brainconn.centrality.subgraph_centrality(plv[:,:,0,j]+np.transpose(plv[:,:,0,j]))))\n",
    "        #betweenness.append(brainconn.centrality.kcoreness_centrality_bu(plv[:,:,0,j]+np.transpose(plv[:,:,0,j]))[0])\n",
    "    if i==1:\n",
    "        evc_T1=np.transpose(np.array(evc))\n",
    "        #betweenness_T1=np.transpose(np.array(betweenness))\n",
    "    if i==2:\n",
    "        evc_T2=np.transpose(np.array(evc))\n",
    "        #betweenness_T2=np.transpose(np.array(betweenness))\n",
    "    \n",
    "plt.imshow(evc_T2-evc_T1)\n",
    "#plt.imshow(betweenness_T1-betweenness_T0)\n",
    "\n",
    "##"
   ]
  },
  {
   "cell_type": "code",
   "execution_count": null,
   "metadata": {},
   "outputs": [],
   "source": []
  }
 ],
 "metadata": {
  "kernelspec": {
   "display_name": "Python 3",
   "language": "python",
   "name": "python3"
  },
  "language_info": {
   "codemirror_mode": {
    "name": "ipython",
    "version": 3
   },
   "file_extension": ".py",
   "mimetype": "text/x-python",
   "name": "python",
   "nbconvert_exporter": "python",
   "pygments_lexer": "ipython3",
   "version": "3.7.6"
  }
 },
 "nbformat": 4,
 "nbformat_minor": 4
}

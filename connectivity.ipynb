{
 "cells": [
  {
   "cell_type": "code",
   "execution_count": 1,
   "metadata": {},
   "outputs": [],
   "source": [
    "import mne\n",
    "import numpy as np\n",
    "import matplotlib.pyplot as plt"
   ]
  },
  {
   "cell_type": "code",
   "execution_count": 2,
   "metadata": {},
   "outputs": [
    {
     "name": "stdout",
     "output_type": "stream",
     "text": [
      "Extracting EDF parameters from /media/biraj/DATA/Motor Imagery Dataset/S005/S005R03.edf...\n",
      "EDF file detected\n",
      "Setting channel info structure...\n",
      "Creating raw.info structure...\n",
      "Used Annotations descriptions: ['T0', 'T1', 'T2']\n",
      "30 matching events found\n",
      "Applying baseline correction (mode: mean)\n",
      "Not setting metadata\n",
      "0 projection items activated\n"
     ]
    }
   ],
   "source": [
    "sbj='005'\n",
    "rec='03'\n",
    "edf_loc= '/media/biraj/DATA/Motor Imagery Dataset/S'+sbj+'/S'+sbj+'R'+rec+'.edf'\n",
    "Data = mne.io.read_raw_edf(edf_loc)\n",
    "events, event_id=mne.events_from_annotations(Data)\n",
    "epochs=mne.Epochs(Data, events, event_id, tmin=0, tmax=4, baseline=(None,None))"
   ]
  },
  {
   "cell_type": "code",
   "execution_count": 3,
   "metadata": {
    "scrolled": true
   },
   "outputs": [
    {
     "name": "stdout",
     "output_type": "stream",
     "text": [
      "0\n",
      "1312\n",
      "2624\n",
      "3936\n",
      "5248\n",
      "6560\n",
      "7872\n",
      "9184\n",
      "10496\n",
      "11808\n",
      "13120\n",
      "14432\n",
      "15744\n",
      "17056\n"
     ]
    }
   ],
   "source": [
    "onset = []\n",
    "duration = [4.1*3]*14\n",
    "description = []\n",
    "\n",
    "for i in range(len(events)-1):\n",
    "    if events[i, 2] == 1:\n",
    "        continue\n",
    "    elif events[i, 2] == 2:\n",
    "        print(events[i-1][0])\n",
    "        onset.append(events[i-1][0])\n",
    "        #duration.append(events[i+1][0]-events[i-1][0])\n",
    "        description.append('T1')\n",
    "        continue\n",
    "    elif events[i, 2] == 3:\n",
    "        print(events[i-1][0])\n",
    "        onset.append(events[i-1][0])\n",
    "        #duration.append(events[i+1][0]-events[i-1][0])\n",
    "        description.append('T2')\n",
    "        continue"
   ]
  },
  {
   "cell_type": "code",
   "execution_count": 4,
   "metadata": {},
   "outputs": [
    {
     "data": {
      "text/plain": [
       "<RawEDF | S005R03.edf, 64 x 19680 (123.0 s), ~129 kB, data not loaded>"
      ]
     },
     "execution_count": 4,
     "metadata": {},
     "output_type": "execute_result"
    }
   ],
   "source": [
    "montage = mne.channels.make_standard_montage('standard_1020')\n",
    "Data.rename_channels(lambda x: x.strip('.'))"
   ]
  },
  {
   "cell_type": "code",
   "execution_count": 5,
   "metadata": {},
   "outputs": [],
   "source": [
    "ch_map = {'Fc5': 'FC5',\n",
    "          'Fc3': 'FC3',\n",
    "          'Fc1': 'FC1',\n",
    "          'Fcz': 'FCz',\n",
    "          'Fc2': 'FC2',\n",
    "          'Fc4': 'FC4',\n",
    "          'Fc6': 'FC6',\n",
    "          'Cp5': 'CP5',\n",
    "          'Cp3': 'CP3',\n",
    "          'Cp1': 'CP1',\n",
    "          'Cpz': 'CPz',\n",
    "          'Cp2': 'CP2',\n",
    "          'Cp4': 'CP4',\n",
    "          'Cp6': 'CP6',\n",
    "          'Af7': 'AF7',\n",
    "          'Af3': 'AF3',\n",
    "          'Afz': 'AFz',\n",
    "          'Af4': 'AF4',\n",
    "          'Af8': 'AF8',\n",
    "          'Ft7': 'FT7',\n",
    "          'Ft8': 'FT8',\n",
    "          'Tp7': 'TP7',\n",
    "          'Tp8': 'TP8',\n",
    "          'Po7': 'PO7',\n",
    "          'Po3': 'PO3',\n",
    "          'Poz': 'POz',\n",
    "          'Po4': 'PO4',\n",
    "          'Po8': 'PO8'}"
   ]
  },
  {
   "cell_type": "code",
   "execution_count": 6,
   "metadata": {},
   "outputs": [
    {
     "data": {
      "text/plain": [
       "<RawEDF | S005R03.edf, 64 x 19680 (123.0 s), ~129 kB, data not loaded>"
      ]
     },
     "execution_count": 6,
     "metadata": {},
     "output_type": "execute_result"
    }
   ],
   "source": [
    "Data.rename_channels(ch_map)"
   ]
  },
  {
   "cell_type": "code",
   "execution_count": 7,
   "metadata": {},
   "outputs": [
    {
     "data": {
      "text/plain": [
       "<RawEDF | S005R03.edf, 64 x 19680 (123.0 s), ~178 kB, data not loaded>"
      ]
     },
     "execution_count": 7,
     "metadata": {},
     "output_type": "execute_result"
    }
   ],
   "source": [
    "Data.set_montage(montage)"
   ]
  },
  {
   "cell_type": "code",
   "execution_count": 8,
   "metadata": {},
   "outputs": [],
   "source": [
    "#include ={'Fp1','Fpz', 'Fp2','FC1','FCz','FC2','C1','Cz','C2','CP1','CPz','CP2'}\n",
    "include ={'Fp1', 'Fp2','AF3','AF4','AF7','AF8',\n",
    "          'FC1','FC2','FC3','FC4','FC5','FC6',\n",
    "          'C1','C2','C3','C4','C5','C6',\n",
    "          'CP1','CP2','CP3','CP4','CP5','CP6'}"
   ]
  },
  {
   "cell_type": "code",
   "execution_count": 9,
   "metadata": {},
   "outputs": [],
   "source": [
    "picks=mne.pick_channels(Data.ch_names, include, ordered=True)"
   ]
  },
  {
   "cell_type": "code",
   "execution_count": null,
   "metadata": {},
   "outputs": [],
   "source": []
  },
  {
   "cell_type": "code",
   "execution_count": 8,
   "metadata": {},
   "outputs": [
    {
     "name": "stdout",
     "output_type": "stream",
     "text": [
      "[0, 1312, 2624, 3936, 5248, 6560, 7872, 9184, 10496, 11808, 13120, 14432, 15744, 17056]\n",
      "[  0.    8.2  16.4  24.6  32.8  41.   49.2  57.4  65.6  73.8  82.   90.2\n",
      "  98.4 106.6]\n",
      "[12.3 12.3 12.3 12.3 12.3 12.3 12.3 12.3 12.3 12.3 12.3 12.3 12.3 12.3]\n"
     ]
    }
   ],
   "source": [
    "print(onset)\n",
    "print(np.array(onset)/160)\n",
    "print(np.array(duration))"
   ]
  },
  {
   "cell_type": "code",
   "execution_count": 9,
   "metadata": {},
   "outputs": [
    {
     "name": "stdout",
     "output_type": "stream",
     "text": [
      "<Annotations | 14 segments: T1 (7), T2 (7)>\n"
     ]
    }
   ],
   "source": [
    "onset = np.array(onset)/160\n",
    "duration = np.array(duration)/160\n",
    "my_ann = mne.Annotations(onset, duration, description)\n",
    "print(my_ann)"
   ]
  },
  {
   "cell_type": "code",
   "execution_count": 10,
   "metadata": {},
   "outputs": [
    {
     "data": {
      "text/plain": [
       "<RawEDF | S005R03.edf, 64 x 19680 (123.0 s), ~178 kB, data not loaded>"
      ]
     },
     "execution_count": 10,
     "metadata": {},
     "output_type": "execute_result"
    }
   ],
   "source": [
    "Data.set_annotations(my_ann)"
   ]
  },
  {
   "cell_type": "code",
   "execution_count": 12,
   "metadata": {},
   "outputs": [
    {
     "name": "stdout",
     "output_type": "stream",
     "text": [
      "Used Annotations descriptions: ['T1', 'T2']\n",
      "14 matching events found\n",
      "Applying baseline correction (mode: mean)\n",
      "Not setting metadata\n",
      "0 projection items activated\n"
     ]
    }
   ],
   "source": [
    "events, event_id=mne.events_from_annotations(Data)\n",
    "epochs=mne.Epochs(Data, events, event_id=event_id, tmin=0, tmax=12, baseline=(None,None))\n",
    "#epochs=mne.Epochs(Data, events, event_id=event_id, tmin=0, tmax=12, picks=picks, baseline=(None,None))"
   ]
  },
  {
   "cell_type": "code",
   "execution_count": 13,
   "metadata": {},
   "outputs": [
    {
     "data": {
      "text/plain": [
       "<Info | 8 non-empty values\n",
       " bads: []\n",
       " ch_names: FC5, FC3, FC1, FCz, FC2, FC4, FC6, C5, C3, C1, Cz, C2, C4, C6, ...\n",
       " chs: 64 EEG\n",
       " custom_ref_applied: False\n",
       " dig: 67 items (3 Cardinal, 64 EEG)\n",
       " highpass: 0.0 Hz\n",
       " lowpass: 80.0 Hz\n",
       " meas_date: 2009-08-12 16:15:00 UTC\n",
       " nchan: 64\n",
       " projs: []\n",
       " sfreq: 160.0 Hz\n",
       ">"
      ]
     },
     "execution_count": 13,
     "metadata": {},
     "output_type": "execute_result"
    }
   ],
   "source": [
    "epochs.info"
   ]
  },
  {
   "cell_type": "code",
   "execution_count": 14,
   "metadata": {},
   "outputs": [
    {
     "name": "stdout",
     "output_type": "stream",
     "text": [
      "Loading data for 7 events and 1921 original time points ...\n",
      "0 bad epochs dropped\n",
      "Loading data for 7 events and 1921 original time points ...\n",
      "0 bad epochs dropped\n"
     ]
    }
   ],
   "source": [
    "T1=epochs['T1'].get_data()\n",
    "T2=epochs['T2'].get_data()"
   ]
  },
  {
   "cell_type": "code",
   "execution_count": 15,
   "metadata": {},
   "outputs": [],
   "source": [
    "import networkx as nx"
   ]
  },
  {
   "cell_type": "code",
   "execution_count": 16,
   "metadata": {},
   "outputs": [
    {
     "data": {
      "text/plain": [
       "['FC5',\n",
       " 'FC3',\n",
       " 'FC1',\n",
       " 'FCz',\n",
       " 'FC2',\n",
       " 'FC4',\n",
       " 'FC6',\n",
       " 'C5',\n",
       " 'C3',\n",
       " 'C1',\n",
       " 'Cz',\n",
       " 'C2',\n",
       " 'C4',\n",
       " 'C6',\n",
       " 'CP5',\n",
       " 'CP3',\n",
       " 'CP1',\n",
       " 'CPz',\n",
       " 'CP2',\n",
       " 'CP4',\n",
       " 'CP6',\n",
       " 'Fp1',\n",
       " 'Fpz',\n",
       " 'Fp2',\n",
       " 'AF7',\n",
       " 'AF3',\n",
       " 'AFz',\n",
       " 'AF4',\n",
       " 'AF8',\n",
       " 'F7',\n",
       " 'F5',\n",
       " 'F3',\n",
       " 'F1',\n",
       " 'Fz',\n",
       " 'F2',\n",
       " 'F4',\n",
       " 'F6',\n",
       " 'F8',\n",
       " 'FT7',\n",
       " 'FT8',\n",
       " 'T7',\n",
       " 'T8',\n",
       " 'T9',\n",
       " 'T10',\n",
       " 'TP7',\n",
       " 'TP8',\n",
       " 'P7',\n",
       " 'P5',\n",
       " 'P3',\n",
       " 'P1',\n",
       " 'Pz',\n",
       " 'P2',\n",
       " 'P4',\n",
       " 'P6',\n",
       " 'P8',\n",
       " 'PO7',\n",
       " 'PO3',\n",
       " 'POz',\n",
       " 'PO4',\n",
       " 'PO8',\n",
       " 'O1',\n",
       " 'Oz',\n",
       " 'O2',\n",
       " 'Iz']"
      ]
     },
     "execution_count": 16,
     "metadata": {},
     "output_type": "execute_result"
    }
   ],
   "source": [
    "epochs.ch_names"
   ]
  },
  {
   "cell_type": "code",
   "execution_count": 17,
   "metadata": {},
   "outputs": [],
   "source": [
    "info = Data.info\n",
    "fmin=4\n",
    "fmax=8\n",
    "how_many=10"
   ]
  },
  {
   "cell_type": "code",
   "execution_count": null,
   "metadata": {
    "scrolled": false
   },
   "outputs": [
    {
     "name": "stdout",
     "output_type": "stream",
     "text": [
      "<Epochs  |   7 events (good & bad), 0 - 12 sec, baseline [None, None], ~178 kB, data not loaded,\n",
      " 'T1': 7>\n",
      "Connectivity computation...\n",
      "only using indices for lower-triangular matrix\n",
      "    computing connectivity for 2016 connections\n",
      "    using t=0.000s..12.000s for estimation (1921 points)\n",
      "    frequencies: 4.0Hz..8.0Hz (10 points)\n",
      "    connectivity scores will be averaged for each band\n",
      "    using CWT with Morlet wavelets to estimate spectra\n",
      "    the following metrics will be computed: PLV\n",
      "    computing connectivity for epoch 1\n",
      "    computing connectivity for epoch 2\n",
      "    computing connectivity for epoch 3\n",
      "    computing connectivity for epoch 4\n"
     ]
    }
   ],
   "source": [
    "\n",
    "for i in range(3):\n",
    "    if i==0:\n",
    "        continue\n",
    "        \n",
    "    T=epochs['T'+str(i)]\n",
    "    print(T)\n",
    "    plv, freqs, times, n_epochs, n_tapers=mne.connectivity.spectral_connectivity(T,method='plv', indices=None, mode='cwt_morlet', sfreq=info['sfreq'], fmin=fmin, fmax=fmax, faverage=True, cwt_freqs=np.linspace(fmin,fmax,how_many), cwt_n_cycles=1, n_jobs=1)\n",
    "    if i==1:\n",
    "        plv_T1=plv\n",
    "    if i==2:\n",
    "        plv_T2=plv\n",
    "    "
   ]
  },
  {
   "cell_type": "code",
   "execution_count": 20,
   "metadata": {},
   "outputs": [
    {
     "data": {
      "text/plain": [
       "24"
      ]
     },
     "execution_count": 20,
     "metadata": {},
     "output_type": "execute_result"
    }
   ],
   "source": [
    "len(plv)"
   ]
  },
  {
   "cell_type": "code",
   "execution_count": 21,
   "metadata": {},
   "outputs": [],
   "source": [
    "G_T1=nx.Graph()\n",
    "G=G_T1"
   ]
  },
  {
   "cell_type": "code",
   "execution_count": 22,
   "metadata": {
    "scrolled": false
   },
   "outputs": [
    {
     "data": {
      "text/plain": [
       "<matplotlib.image.AxesImage at 0x7ff6387ee8d0>"
      ]
     },
     "execution_count": 22,
     "metadata": {},
     "output_type": "execute_result"
    },
    {
     "data": {
      "image/png": "[encoded data removed]",
      "text/plain": [
       "<Figure size 432x288 with 1 Axes>"
      ]
     },
     "metadata": {
      "needs_background": "light"
     },
     "output_type": "display_data"
    }
   ],
   "source": [
    "#t=5*160\n",
    "centrality=[]\n",
    "for t in range(len(plv_T1[1,1,0,:])):\n",
    "    min_plv=0.2\n",
    "    max_plv=0.95\n",
    "    adj=plv_T1[:,:,0,t]\n",
    "    G.clear()\n",
    "    G.add_nodes_from(epochs.ch_names)\n",
    "    pos=nx.circular_layout(G)\n",
    "    for i in range(len(epochs.ch_names)-1):\n",
    "        for j in range(i):\n",
    "            if (adj[i,j]<=min_plv or adj[i,j]>=max_plv):\n",
    "                continue\n",
    "            w_edges= [(epochs.ch_names[i],epochs.ch_names[j],1-adj[i,j])]\n",
    "            G.add_weighted_edges_from(w_edges)\n",
    "    \n",
    "    H=nx.minimum_spanning_tree(G, weight=1)\n",
    "    centrality.append(nx.eigenvector_centrality(H).values())\n",
    "    \n",
    "lst_T1=[]\n",
    "for t in centrality:\n",
    "    lst_T1.append(list(t))\n",
    "\n",
    "plt.imshow(np.transpose(lst_T1), aspect='auto')"
   ]
  },
  {
   "cell_type": "code",
   "execution_count": 23,
   "metadata": {},
   "outputs": [
    {
     "data": {
      "text/plain": [
       "24"
      ]
     },
     "execution_count": 23,
     "metadata": {},
     "output_type": "execute_result"
    }
   ],
   "source": [
    "len(picks)"
   ]
  },
  {
   "cell_type": "code",
   "execution_count": 24,
   "metadata": {},
   "outputs": [
    {
     "data": {
      "text/plain": [
       "<matplotlib.image.AxesImage at 0x7ff63850e490>"
      ]
     },
     "execution_count": 24,
     "metadata": {},
     "output_type": "execute_result"
    },
    {
     "data": {
      "image/png": "[encoded data removed]",
      "text/plain": [
       "<Figure size 432x288 with 1 Axes>"
      ]
     },
     "metadata": {
      "needs_background": "light"
     },
     "output_type": "display_data"
    }
   ],
   "source": [
    "#t=5*160\n",
    "centrality=[]\n",
    "for t in range(len(plv_T2[1,1,0,:])):\n",
    "    min_plv=0.2\n",
    "    max_plv=0.95\n",
    "    adj=plv_T2[:,:,0,t]\n",
    "    G.clear()\n",
    "    G.add_nodes_from(epochs.ch_names)\n",
    "    pos=nx.circular_layout(G)\n",
    "    for i in range(len(epochs.ch_names)-1):\n",
    "        for j in range(i):\n",
    "            if (adj[i,j]<=min_plv or adj[i,j]>=max_plv):\n",
    "                continue\n",
    "            w_edges= [(epochs.ch_names[i],epochs.ch_names[j],1-adj[i,j])]\n",
    "            G.add_weighted_edges_from(w_edges)\n",
    "    del H\n",
    "    H=nx.minimum_spanning_tree(G, weight=1)\n",
    "    centrality.append(nx.eigenvector_centrality(H).values())\n",
    "    \n",
    "lst_T2=[]\n",
    "for t in centrality:\n",
    "    lst_T2.append(list(t))\n",
    "    \n",
    "plt.imshow(np.transpose(lst_T1), aspect='auto')\n"
   ]
  },
  {
   "cell_type": "code",
   "execution_count": 25,
   "metadata": {
    "scrolled": true
   },
   "outputs": [
    {
     "data": {
      "text/plain": [
       "<matplotlib.image.AxesImage at 0x7ff638483250>"
      ]
     },
     "execution_count": 25,
     "metadata": {},
     "output_type": "execute_result"
    },
    {
     "data": {
      "image/png": "[encoded data removed]",
      "text/plain": [
       "<Figure size 432x288 with 1 Axes>"
      ]
     },
     "metadata": {
      "needs_background": "light"
     },
     "output_type": "display_data"
    }
   ],
   "source": [
    "plt.imshow(np.transpose(np.array(lst_T1)-np.array(lst_T2)), aspect='auto')"
   ]
  },
  {
   "cell_type": "markdown",
   "metadata": {},
   "source": [
    "#### computing minimum spanning tree ###Use graph H as minimum spanning tree\n",
    "H=nx.minimum_spanning_tree(G, weight=1)\n",
    "print(sorted(H.edges(data=True)))\n",
    "nx.draw(H,pos, with_labels=True)"
   ]
  },
  {
   "cell_type": "code",
   "execution_count": 26,
   "metadata": {},
   "outputs": [
    {
     "data": {
      "text/plain": [
       "EdgeView([('FC6', 'FC5'), ('FC6', 'CP2'), ('FC6', 'C3'), ('FC6', 'Fp1'), ('FC6', 'C2'), ('FC6', 'CP3'), ('FC6', 'C1'), ('FC6', 'AF3'), ('FC6', 'FC3'), ('FC6', 'Fp2'), ('FC6', 'C6'), ('FC6', 'CP5'), ('FC6', 'FC1'), ('FC6', 'AF7'), ('FC6', 'FC4'), ('FC6', 'CP6'), ('FC6', 'AF8'), ('FC6', 'C5'), ('FC6', 'C4'), ('FC6', 'CP1'), ('FC6', 'FC2'), ('FC6', 'AF4')])"
      ]
     },
     "execution_count": 26,
     "metadata": {},
     "output_type": "execute_result"
    }
   ],
   "source": [
    "(H.edges)\n"
   ]
  },
  {
   "cell_type": "markdown",
   "metadata": {},
   "source": [
    "for values in G.nodes:\n",
    "    evc.append(centrality[values])"
   ]
  },
  {
   "cell_type": "code",
   "execution_count": null,
   "metadata": {},
   "outputs": [],
   "source": []
  },
  {
   "cell_type": "markdown",
   "metadata": {},
   "source": [
    "\n",
    "H=nx.minimum_spanning_tree(G, weight=1)\n",
    "print(sorted(H.edges(data=True)))\n",
    "nx.draw(H,pos, with_labels=True)"
   ]
  },
  {
   "cell_type": "markdown",
   "metadata": {},
   "source": [
    "pos=nx.spring_layout(G)\n",
    "plt.figure(figsize=(100,100))\n",
    "nx.draw_networkx_edges(G,pos,alpha=0.3,width=3, edge_color='m')\n",
    "nodesize=10\n",
    "nx.draw_networkx_nodes(G,pos,node_size=nodesize,node_color='w',alpha=0.4)\n",
    "nx.draw_networkx_edges(G,pos,alpha=0.4,node_size=0,width=1,edge_color='k')\n",
    "nx.draw_networkx_labels(G,pos,fontsize=14)"
   ]
  },
  {
   "cell_type": "code",
   "execution_count": 30,
   "metadata": {},
   "outputs": [
    {
     "ename": "AttributeError",
     "evalue": "'list' object has no attribute 'ndim'",
     "output_type": "error",
     "traceback": [
      "\u001b[0;31m---------------------------------------------------------------------------\u001b[0m",
      "\u001b[0;31mAttributeError\u001b[0m                            Traceback (most recent call last)",
      "\u001b[0;32m<ipython-input-30-2c806c4d0322>\u001b[0m in \u001b[0;36m<module>\u001b[0;34m\u001b[0m\n\u001b[1;32m      1\u001b[0m \u001b[0mlayout\u001b[0m \u001b[0;34m=\u001b[0m \u001b[0mmne\u001b[0m\u001b[0;34m.\u001b[0m\u001b[0mfind_layout\u001b[0m\u001b[0;34m(\u001b[0m\u001b[0mepochs\u001b[0m\u001b[0;34m.\u001b[0m\u001b[0minfo\u001b[0m\u001b[0;34m,\u001b[0m \u001b[0;34m'eeg'\u001b[0m\u001b[0;34m)\u001b[0m  \u001b[0;31m# use full layout\u001b[0m\u001b[0;34m\u001b[0m\u001b[0;34m\u001b[0m\u001b[0m\n\u001b[1;32m      2\u001b[0m \u001b[0;34m\u001b[0m\u001b[0m\n\u001b[0;32m----> 3\u001b[0;31m \u001b[0mtfr\u001b[0m \u001b[0;34m=\u001b[0m \u001b[0mmne\u001b[0m\u001b[0;34m.\u001b[0m\u001b[0mtime_frequency\u001b[0m\u001b[0;34m.\u001b[0m\u001b[0mAverageTFR\u001b[0m\u001b[0;34m(\u001b[0m\u001b[0mepochs\u001b[0m\u001b[0;34m.\u001b[0m\u001b[0minfo\u001b[0m\u001b[0;34m,\u001b[0m \u001b[0mlst_T1\u001b[0m\u001b[0;34m,\u001b[0m \u001b[0mtimes\u001b[0m\u001b[0;34m,\u001b[0m \u001b[0mfreqs\u001b[0m\u001b[0;34m,\u001b[0m \u001b[0mlen\u001b[0m\u001b[0;34m(\u001b[0m\u001b[0mlst_T1\u001b[0m\u001b[0;34m)\u001b[0m\u001b[0;34m)\u001b[0m\u001b[0;34m\u001b[0m\u001b[0;34m\u001b[0m\u001b[0m\n\u001b[0m\u001b[1;32m      4\u001b[0m \u001b[0mtfr\u001b[0m\u001b[0;34m.\u001b[0m\u001b[0mplot_topo\u001b[0m\u001b[0;34m(\u001b[0m\u001b[0mfig_facecolor\u001b[0m\u001b[0;34m=\u001b[0m\u001b[0;34m'w'\u001b[0m\u001b[0;34m,\u001b[0m \u001b[0mfont_color\u001b[0m\u001b[0;34m=\u001b[0m\u001b[0;34m'k'\u001b[0m\u001b[0;34m,\u001b[0m \u001b[0mborder\u001b[0m\u001b[0;34m=\u001b[0m\u001b[0;34m'k'\u001b[0m\u001b[0;34m)\u001b[0m\u001b[0;34m\u001b[0m\u001b[0;34m\u001b[0m\u001b[0m\n",
      "\u001b[0;32m<decorator-gen-53>\u001b[0m in \u001b[0;36m__init__\u001b[0;34m(self, info, data, times, freqs, nave, comment, method, verbose)\u001b[0m\n",
      "\u001b[0;32m~/anaconda3/lib/python3.7/site-packages/mne/time_frequency/tfr.py\u001b[0m in \u001b[0;36m__init__\u001b[0;34m(self, info, data, times, freqs, nave, comment, method, verbose)\u001b[0m\n\u001b[1;32m   1042\u001b[0m                  method=None, verbose=None):  # noqa: D102\n\u001b[1;32m   1043\u001b[0m         \u001b[0mself\u001b[0m\u001b[0;34m.\u001b[0m\u001b[0minfo\u001b[0m \u001b[0;34m=\u001b[0m \u001b[0minfo\u001b[0m\u001b[0;34m\u001b[0m\u001b[0;34m\u001b[0m\u001b[0m\n\u001b[0;32m-> 1044\u001b[0;31m         \u001b[0;32mif\u001b[0m \u001b[0mdata\u001b[0m\u001b[0;34m.\u001b[0m\u001b[0mndim\u001b[0m \u001b[0;34m!=\u001b[0m \u001b[0;36m3\u001b[0m\u001b[0;34m:\u001b[0m\u001b[0;34m\u001b[0m\u001b[0;34m\u001b[0m\u001b[0m\n\u001b[0m\u001b[1;32m   1045\u001b[0m             \u001b[0;32mraise\u001b[0m \u001b[0mValueError\u001b[0m\u001b[0;34m(\u001b[0m\u001b[0;34m'data should be 3d. Got %d.'\u001b[0m \u001b[0;34m%\u001b[0m \u001b[0mdata\u001b[0m\u001b[0;34m.\u001b[0m\u001b[0mndim\u001b[0m\u001b[0;34m)\u001b[0m\u001b[0;34m\u001b[0m\u001b[0;34m\u001b[0m\u001b[0m\n\u001b[1;32m   1046\u001b[0m         \u001b[0mn_channels\u001b[0m\u001b[0;34m,\u001b[0m \u001b[0mn_freqs\u001b[0m\u001b[0;34m,\u001b[0m \u001b[0mn_times\u001b[0m \u001b[0;34m=\u001b[0m \u001b[0mdata\u001b[0m\u001b[0;34m.\u001b[0m\u001b[0mshape\u001b[0m\u001b[0;34m\u001b[0m\u001b[0;34m\u001b[0m\u001b[0m\n",
      "\u001b[0;31mAttributeError\u001b[0m: 'list' object has no attribute 'ndim'"
     ]
    }
   ],
   "source": [
    "\n",
    "layout = mne.find_layout(epochs.info, 'eeg')  # use full layout\n",
    "\n",
    "tfr = mne.time_frequency.AverageTFR(epochs.info, lst_T1, times, freqs, len(lst_T1))\n",
    "tfr.plot_topo(fig_facecolor='w', font_color='k', border='k')"
   ]
  },
  {
   "cell_type": "code",
   "execution_count": null,
   "metadata": {},
   "outputs": [],
   "source": []
  },
  {
   "cell_type": "code",
   "execution_count": null,
   "metadata": {},
   "outputs": [],
   "source": []
  }
 ],
 "metadata": {
  "kernelspec": {
   "display_name": "Python 3",
   "language": "python",
   "name": "python3"
  },
  "language_info": {
   "codemirror_mode": {
    "name": "ipython",
    "version": 3
   },
   "file_extension": ".py",
   "mimetype": "text/x-python",
   "name": "python",
   "nbconvert_exporter": "python",
   "pygments_lexer": "ipython3",
   "version": "3.7.6"
  }
 },
 "nbformat": 4,
 "nbformat_minor": 4
}
